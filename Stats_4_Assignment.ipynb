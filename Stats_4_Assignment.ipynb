{
  "nbformat": 4,
  "nbformat_minor": 0,
  "metadata": {
    "colab": {
      "provenance": []
    },
    "kernelspec": {
      "name": "python3",
      "display_name": "Python 3"
    },
    "language_info": {
      "name": "python"
    }
  },
  "cells": [
    {
      "cell_type": "code",
      "execution_count": 1,
      "metadata": {
        "id": "O9tymZC0epk_"
      },
      "outputs": [],
      "source": [
        "import numpy as np\n",
        "import scipy.stats as stats\n",
        "\n"
      ]
    },
    {
      "cell_type": "code",
      "source": [
        "# Problem Statement 1\n",
        "# Observed frequencies from the data\n",
        "observed = np.array([[60, 54, 46, 41],\n",
        "                     [40, 44, 53, 57]])\n",
        "\n",
        "# Perform the Chi-Square test\n",
        "chi2_stat, p_value, dof, expected = stats.chi2_contingency(observed)\n",
        "\n",
        "# Print results\n",
        "print(f\"Chi-Square Statistic: {chi2_stat:.4f}\")\n",
        "print(f\"P-Value: {p_value:.4f}\")\n",
        "print(f\"Degrees of Freedom: {dof}\")\n",
        "print(\"Expected Frequencies:\\n\", expected)\n",
        "\n",
        "# Conclusion based on the p-value\n",
        "alpha = 0.05\n",
        "if p_value < alpha:\n",
        "    print(\"Reject the null hypothesis. There is a significant relationship between gender and education level.\")\n",
        "else:\n",
        "    print(\"Fail to reject the null hypothesis. There is no significant relationship between gender and education level.\")"
      ],
      "metadata": {
        "colab": {
          "base_uri": "https://localhost:8080/"
        },
        "id": "WBZ9AmEnervV",
        "outputId": "1f41a40e-83a8-4b86-f056-9cb6afd2c2c5"
      },
      "execution_count": 2,
      "outputs": [
        {
          "output_type": "stream",
          "name": "stdout",
          "text": [
            "Chi-Square Statistic: 8.0061\n",
            "P-Value: 0.0459\n",
            "Degrees of Freedom: 3\n",
            "Expected Frequencies:\n",
            " [[50.88607595 49.86835443 50.37721519 49.86835443]\n",
            " [49.11392405 48.13164557 48.62278481 48.13164557]]\n",
            "Reject the null hypothesis. There is a significant relationship between gender and education level.\n"
          ]
        }
      ]
    },
    {
      "cell_type": "code",
      "source": [
        "# Problem Statement 2\n",
        "\n",
        "# Data\n",
        "group1 = np.array([51, 45, 33, 45, 67])\n",
        "group2 = np.array([23, 43, 23, 43, 45])\n",
        "group3 = np.array([56, 76, 74, 87, 56])\n",
        "\n",
        "# Perform one-way ANOVA\n",
        "F_statistic, p_value = stats.f_oneway(group1, group2, group3)\n",
        "\n",
        "# Print the results\n",
        "print(f\"F-statistic: {F_statistic:.4f}\")\n",
        "print(f\"P-value: {p_value:.4f}\")\n"
      ],
      "metadata": {
        "colab": {
          "base_uri": "https://localhost:8080/"
        },
        "id": "euI22EzTe6x2",
        "outputId": "6bf46354-16db-4755-bf16-98d27844d223"
      },
      "execution_count": 3,
      "outputs": [
        {
          "output_type": "stream",
          "name": "stdout",
          "text": [
            "F-statistic: 9.7472\n",
            "P-value: 0.0031\n"
          ]
        }
      ]
    },
    {
      "cell_type": "code",
      "source": [
        "# Problem Statement 3\n",
        "\n",
        "# Data\n",
        "group1 = np.array([10, 20, 30, 40, 50])\n",
        "group2 = np.array([5, 10, 15, 20, 25])\n",
        "\n",
        "# Calculate variances\n",
        "var1 = np.var(group1, ddof=1)  # Sample variance for group 1\n",
        "var2 = np.var(group2, ddof=1)  # Sample variance for group 2\n",
        "\n",
        "# Calculate F-statistic\n",
        "F_statistic = var1 / var2\n",
        "\n",
        "# Degrees of freedom\n",
        "df1 = len(group1) - 1  # For group 1\n",
        "df2 = len(group2) - 1  # For group 2\n",
        "\n",
        "# Calculate the p-value\n",
        "p_value = 1 - stats.f.cdf(F_statistic, df1, df2)\n",
        "\n",
        "# Print the results\n",
        "print(f\"Variance Group 1: {var1:.2f}\")\n",
        "print(f\"Variance Group 2: {var2:.2f}\")\n",
        "print(f\"F-statistic: {F_statistic:.2f}\")\n",
        "print(f\"Degrees of Freedom: df1 = {df1}, df2 = {df2}\")\n",
        "print(f\"P-value: {p_value:.4f}\")\n"
      ],
      "metadata": {
        "id": "c8V2WhJkfEde",
        "outputId": "6ba61465-fb9c-428b-c82a-7570ab1c27e4",
        "colab": {
          "base_uri": "https://localhost:8080/"
        }
      },
      "execution_count": 4,
      "outputs": [
        {
          "output_type": "stream",
          "name": "stdout",
          "text": [
            "Variance Group 1: 250.00\n",
            "Variance Group 2: 62.50\n",
            "F-statistic: 4.00\n",
            "Degrees of Freedom: df1 = 4, df2 = 4\n",
            "P-value: 0.1040\n"
          ]
        }
      ]
    }
  ]
}