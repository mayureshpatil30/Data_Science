{
  "nbformat": 4,
  "nbformat_minor": 0,
  "metadata": {
    "colab": {
      "provenance": []
    },
    "kernelspec": {
      "name": "python3",
      "display_name": "Python 3"
    },
    "language_info": {
      "name": "python"
    }
  },
  "cells": [
    {
      "cell_type": "code",
      "execution_count": 1,
      "metadata": {
        "id": "DrCJblYfqS7A"
      },
      "outputs": [],
      "source": [
        "# Import required libraries\n",
        "import pandas as pd\n",
        "import numpy as np\n",
        "from sklearn.model_selection import train_test_split\n",
        "from sklearn.neighbors import KNeighborsRegressor\n",
        "from sklearn.preprocessing import StandardScaler\n",
        "from sklearn.metrics import mean_squared_error"
      ]
    },
    {
      "cell_type": "code",
      "source": [
        "# Load the dataset\n",
        "url = 'https://www.dropbox.com/s/b3nv38jjo5dxcl6/nba_2013.csv?dl=1'\n",
        "nba = pd.read_csv(url)\n",
        "\n",
        "# Inspect the data structure\n",
        "print(nba.head())\n",
        "print(nba.columns)\n",
        "\n",
        "# Select relevant features\n",
        "# We’ll use a few basic performance metrics to predict points scored: games played (g), games started (gs),\n",
        "# Adjust feature selection to match actual column names in the dataset\n",
        "features = nba[['g', 'gs', 'fg', 'fga', 'x3p', 'trb', 'ast', 'stl', 'blk', 'tov']]\n",
        "target = nba['pts']  # Target variable: points scored\n",
        "\n",
        "# Split the data into training and testing sets\n",
        "X_train, X_test, y_train, y_test = train_test_split(features, target, test_size=0.2, random_state=42)\n",
        "\n",
        "# Standardize the features for KNN\n",
        "scaler = StandardScaler()\n",
        "X_train_scaled = scaler.fit_transform(X_train)\n",
        "X_test_scaled = scaler.transform(X_test)\n",
        "\n",
        "# Initialize the K-Nearest Neighbors regressor\n",
        "knn = KNeighborsRegressor(n_neighbors=5)  # Using k=5 as a starting point\n",
        "\n",
        "# Train the model\n",
        "knn.fit(X_train_scaled, y_train)\n",
        "\n",
        "# Predict on the test set\n",
        "y_pred = knn.predict(X_test_scaled)\n",
        "\n",
        "# Evaluate the model using Mean Squared Error\n",
        "mse = mean_squared_error(y_test, y_pred)\n",
        "rmse = np.sqrt(mse)\n",
        "print(\"Mean Squared Error:\", mse)\n",
        "print(\"Root Mean Squared Error:\", rmse)"
      ],
      "metadata": {
        "colab": {
          "base_uri": "https://localhost:8080/"
        },
        "id": "8ycMaWcUqZEl",
        "outputId": "3757c37d-2b6c-44bf-dc49-8456dd8f7295"
      },
      "execution_count": 3,
      "outputs": [
        {
          "output_type": "stream",
          "name": "stdout",
          "text": [
            "          player pos  age bref_team_id   g  gs    mp   fg   fga    fg.  ...  \\\n",
            "0     Quincy Acy  SF   23          TOT  63   0   847   66   141  0.468  ...   \n",
            "1   Steven Adams   C   20          OKC  81  20  1197   93   185  0.503  ...   \n",
            "2    Jeff Adrien  PF   27          TOT  53  12   961  143   275  0.520  ...   \n",
            "3  Arron Afflalo  SG   28          ORL  73  73  2552  464  1011  0.459  ...   \n",
            "4  Alexis Ajinca   C   25          NOP  56  30   951  136   249  0.546  ...   \n",
            "\n",
            "   drb  trb  ast  stl  blk  tov   pf   pts     season  season_end  \n",
            "0  144  216   28   23   26   30  122   171  2013-2014        2013  \n",
            "1  190  332   43   40   57   71  203   265  2013-2014        2013  \n",
            "2  204  306   38   24   36   39  108   362  2013-2014        2013  \n",
            "3  230  262  248   35    3  146  136  1330  2013-2014        2013  \n",
            "4  183  277   40   23   46   63  187   328  2013-2014        2013  \n",
            "\n",
            "[5 rows x 31 columns]\n",
            "Index(['player', 'pos', 'age', 'bref_team_id', 'g', 'gs', 'mp', 'fg', 'fga',\n",
            "       'fg.', 'x3p', 'x3pa', 'x3p.', 'x2p', 'x2pa', 'x2p.', 'efg.', 'ft',\n",
            "       'fta', 'ft.', 'orb', 'drb', 'trb', 'ast', 'stl', 'blk', 'tov', 'pf',\n",
            "       'pts', 'season', 'season_end'],\n",
            "      dtype='object')\n",
            "Mean Squared Error: 6046.740206185567\n",
            "Root Mean Squared Error: 77.76078835882238\n"
          ]
        }
      ]
    }
  ]
}