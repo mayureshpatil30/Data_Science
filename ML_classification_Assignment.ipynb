{
  "nbformat": 4,
  "nbformat_minor": 0,
  "metadata": {
    "colab": {
      "provenance": []
    },
    "kernelspec": {
      "name": "python3",
      "display_name": "Python 3"
    },
    "language_info": {
      "name": "python"
    }
  },
  "cells": [
    {
      "cell_type": "code",
      "execution_count": 1,
      "metadata": {
        "id": "mAQalnCOrELz"
      },
      "outputs": [],
      "source": [
        "import numpy as np\n",
        "import pandas as pd\n",
        "from sklearn.model_selection import train_test_split\n",
        "from sklearn.preprocessing import LabelEncoder, StandardScaler\n",
        "from sklearn.metrics import classification_report\n",
        "from sklearn.ensemble import RandomForestClassifier\n",
        "from sklearn.linear_model import LogisticRegression\n",
        "from xgboost import XGBClassifier"
      ]
    },
    {
      "cell_type": "code",
      "source": [
        "# Load data\n",
        "url = \"https://archive.ics.uci.edu/ml/machine-learning-databases/adult/adult.data\"\n",
        "col_labels = ['age', 'workclass', 'fnlwgt', 'education', 'education_num',\n",
        "              'marital_status', 'occupation', 'relationship', 'race',\n",
        "              'sex', 'capital_gain', 'capital_loss', 'hours_per_week',\n",
        "              'native_country', 'wage_class']\n",
        "data = pd.read_csv(url, names=col_labels, na_values=\" ?\", skipinitialspace=True)\n",
        "\n",
        "# Preprocessing\n",
        "data.dropna(inplace=True)\n",
        "label_encoder = LabelEncoder()\n",
        "data['wage_class'] = label_encoder.fit_transform(data['wage_class'])\n",
        "data = pd.get_dummies(data, drop_first=True)\n",
        "\n",
        "# Split data\n",
        "X = data.drop('wage_class', axis=1)\n",
        "y = data['wage_class']\n",
        "X_train, X_test, y_train, y_test = train_test_split(X, y, test_size=0.3, random_state=42)\n",
        "\n",
        "# Model training and evaluation\n",
        "models = {\n",
        "    \"Logistic Regression\": LogisticRegression(max_iter=1000),\n",
        "    \"Random Forest\": RandomForestClassifier(),\n",
        "    \"XGBoost\": XGBClassifier()\n",
        "}\n",
        "\n",
        "for name, model in models.items():\n",
        "    model.fit(X_train, y_train)\n",
        "    y_pred = model.predict(X_test)\n",
        "    print(f\"--- {name} ---\")\n",
        "    print(classification_report(y_test, y_pred))"
      ],
      "metadata": {
        "colab": {
          "base_uri": "https://localhost:8080/"
        },
        "id": "X1oq7FrkrMy4",
        "outputId": "973c546b-98ef-45a2-d6ff-85cedd0ab1ad"
      },
      "execution_count": 2,
      "outputs": [
        {
          "output_type": "stream",
          "name": "stderr",
          "text": [
            "/usr/local/lib/python3.10/dist-packages/sklearn/linear_model/_logistic.py:469: ConvergenceWarning: lbfgs failed to converge (status=1):\n",
            "STOP: TOTAL NO. of ITERATIONS REACHED LIMIT.\n",
            "\n",
            "Increase the number of iterations (max_iter) or scale the data as shown in:\n",
            "    https://scikit-learn.org/stable/modules/preprocessing.html\n",
            "Please also refer to the documentation for alternative solver options:\n",
            "    https://scikit-learn.org/stable/modules/linear_model.html#logistic-regression\n",
            "  n_iter_i = _check_optimize_result(\n"
          ]
        },
        {
          "output_type": "stream",
          "name": "stdout",
          "text": [
            "--- Logistic Regression ---\n",
            "              precision    recall  f1-score   support\n",
            "\n",
            "           0       0.88      0.93      0.90      7455\n",
            "           1       0.72      0.57      0.64      2314\n",
            "\n",
            "    accuracy                           0.85      9769\n",
            "   macro avg       0.80      0.75      0.77      9769\n",
            "weighted avg       0.84      0.85      0.84      9769\n",
            "\n",
            "--- Random Forest ---\n",
            "              precision    recall  f1-score   support\n",
            "\n",
            "           0       0.89      0.93      0.91      7455\n",
            "           1       0.73      0.62      0.67      2314\n",
            "\n",
            "    accuracy                           0.86      9769\n",
            "   macro avg       0.81      0.77      0.79      9769\n",
            "weighted avg       0.85      0.86      0.85      9769\n",
            "\n",
            "--- XGBoost ---\n",
            "              precision    recall  f1-score   support\n",
            "\n",
            "           0       0.90      0.94      0.92      7455\n",
            "           1       0.76      0.67      0.71      2314\n",
            "\n",
            "    accuracy                           0.87      9769\n",
            "   macro avg       0.83      0.80      0.81      9769\n",
            "weighted avg       0.87      0.87      0.87      9769\n",
            "\n"
          ]
        }
      ]
    }
  ]
}